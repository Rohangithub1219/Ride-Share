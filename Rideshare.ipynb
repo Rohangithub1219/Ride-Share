{
  "nbformat": 4,
  "nbformat_minor": 0,
  "metadata": {
    "colab": {
      "provenance": [],
      "authorship_tag": "ABX9TyNDnpE+Pv02eS1vuDK9RNPo",
      "include_colab_link": true
    },
    "kernelspec": {
      "name": "python3",
      "display_name": "Python 3"
    },
    "language_info": {
      "name": "python"
    }
  },
  "cells": [
    {
      "cell_type": "markdown",
      "metadata": {
        "id": "view-in-github",
        "colab_type": "text"
      },
      "source": [
        "<a href=\"https://colab.research.google.com/github/Rohangithub1219/Ride-Share/blob/main/Rideshare.ipynb\" target=\"_parent\"><img src=\"https://colab.research.google.com/assets/colab-badge.svg\" alt=\"Open In Colab\"/></a>"
      ]
    },
    {
      "cell_type": "code",
      "execution_count": 1,
      "metadata": {
        "id": "4x8y23R64WeA"
      },
      "outputs": [],
      "source": [
        "import logging\n",
        "\n",
        "logging.basicConfig(filename='rideshare.log', level=logging.INFO, format='%(asctime)s - %(levelname)s - %(message)s')"
      ]
    },
    {
      "cell_type": "code",
      "source": [
        "def handle_ride_request(request):\n",
        "\n",
        "    passenger_name, pickup_location, destination = request.split(',')\n",
        "\n",
        "    logging.info(f\"Received ride request from {passenger_name} for a ride from {pickup_location} to {destination}\")\n",
        "\n",
        "    return f\"Ride request confirmed for {passenger_name}.\"\n",
        "\n",
        "def assign_driver(driver):\n",
        "\n",
        "    if driver == \"available_driver\":\n",
        "        logging.info(f\"Driver {driver} assigned to the ride.\")\n",
        "        return driver\n",
        "    else:\n",
        "        logging.info(f\"No available drivers.\")\n",
        "        return \"No driver assigned.\""
      ],
      "metadata": {
        "id": "pkJMfo6I9Kkf"
      },
      "execution_count": 2,
      "outputs": []
    },
    {
      "cell_type": "code",
      "source": [
        "try:\n",
        "    request = handle_ride_request(\"Rohan,1st Main St,Pammal\")\n",
        "\n",
        "    driver = assign_driver(\"available_driver\")\n",
        "except Exception as e:\n",
        "    logging.error(f\"Error occurred: {e}\")"
      ],
      "metadata": {
        "id": "yy8gkcwO9Qrd"
      },
      "execution_count": 9,
      "outputs": []
    },
    {
      "cell_type": "code",
      "source": [
        "print(\"Ride request received:\", request)\n",
        "print(\"Driver assigned:\", driver)"
      ],
      "metadata": {
        "colab": {
          "base_uri": "https://localhost:8080/"
        },
        "id": "olZdyVU69Xtp",
        "outputId": "4f5a5fcf-70c7-48dd-a2f5-c5b815fc127d"
      },
      "execution_count": 10,
      "outputs": [
        {
          "output_type": "stream",
          "name": "stdout",
          "text": [
            "Ride request received: Ride request confirmed for Rohan.\n",
            "Driver assigned: available_driver\n"
          ]
        }
      ]
    }
  ]
}